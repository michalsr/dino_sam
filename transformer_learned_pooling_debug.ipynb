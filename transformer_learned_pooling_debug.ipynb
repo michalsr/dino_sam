{
 "cells": [
  {
   "cell_type": "code",
   "execution_count": 1,
   "metadata": {},
   "outputs": [
    {
     "name": "stderr",
     "output_type": "stream",
     "text": [
      "/home/st34/miniconda3/envs/dino/lib/python3.10/site-packages/tqdm/auto.py:21: TqdmWarning: IProgress not found. Please update jupyter and ipywidgets. See https://ipywidgets.readthedocs.io/en/stable/user_install.html\n",
      "  from .autonotebook import tqdm as notebook_tqdm\n"
     ]
    }
   ],
   "source": [
    "import os\n",
    "import sys\n",
    "import pickle\n",
    "import json\n",
    "from typing import List\n",
    "from pycocotools import mask as mask_utils\n",
    "# from einops import rearrange, reduce\n",
    "import torch\n",
    "import numpy as np\n",
    "import torch\n",
    "import torch.nn.functional as F\n",
    "import pickle\n",
    "import itertools\n",
    "import math\n",
    "import argparse\n",
    "from tqdm import tqdm\n",
    "import torch.nn.functional as F\n",
    "from torch import nn, optim\n",
    "import torch\n",
    "import torch.nn as nn\n",
    "from torch.optim import Adam\n",
    "from sklearn.metrics import roc_auc_score, average_precision_score\n",
    "from tqdm import tqdm\n",
    "import os\n",
    "import numpy as np\n",
    "from path import Path\n",
    "import os\n",
    "import pickle\n",
    "import numpy as np\n",
    "from tqdm import tqdm\n",
    "import torch\n",
    "import torch.nn as nn\n",
    "import torch.nn.functional as F\n",
    "import torch\n",
    "import torch.optim as optim\n",
    "from torch.utils.data import DataLoader, TensorDataset\n",
    "from sklearn.metrics import accuracy_score\n",
    "import numpy as np\n",
    "import torch\n",
    "from torch.utils.data import Dataset, DataLoader\n",
    "import os\n",
    "import pickle\n",
    "from tqdm import tqdm\n",
    "import torch\n",
    "from torch.utils.data import Dataset, DataLoader\n",
    "import os\n",
    "import pickle\n",
    "from tqdm import tqdm\n",
    "# import logging, coloredlogs"
   ]
  },
  {
   "cell_type": "code",
   "execution_count": 2,
   "metadata": {},
   "outputs": [
    {
     "name": "stdout",
     "output_type": "stream",
     "text": [
      "/home/st34/st34\n"
     ]
    }
   ],
   "source": [
    "%cd ~/st34"
   ]
  },
  {
   "cell_type": "code",
   "execution_count": 3,
   "metadata": {},
   "outputs": [],
   "source": [
    "def save_file(filename, data, json_numpy=False):\n",
    "    parent_dir = os.path.dirname(filename)\n",
    "    if not os.path.exists(parent_dir):\n",
    "        os.makedirs(parent_dir)\n",
    "    Path(parent_dir).chmod(0o0777)\n",
    "    file_ext = os.path.splitext(filename)[1]       \n",
    "    if file_ext == \".npy\":\n",
    "        with open(filename, \"wb+\") as fopen:\n",
    "            np.save(fopen, data)\n",
    "    elif file_ext == \".json\":\n",
    "        if not json_numpy:\n",
    "            with open(filename, 'w+') as fopen:\n",
    "                json.dump(data, fopen, indent=2)\n",
    "        else:\n",
    "            with open(filename, \"w+\") as fopen:\n",
    "                json.dump(data, fopen, cls=NumpyArrayEncoder)\n",
    "    elif file_ext == \".yaml\":\n",
    "        with open(filename, \"w+\") as fopen:\n",
    "            dump = yaml.dump(data)\n",
    "            fopen.write(dump)\n",
    "            fopen.flush()\n",
    "    else:\n",
    "        # assume file is pickle\n",
    "        with open(filename, \"wb+\") as fopen:\n",
    "            pickle.dump(data, fopen)\n",
    "    Path(filename).chmod(0o0777)\n",
    "\n",
    "def open_file(filename):\n",
    "    \"\"\"\n",
    "    Based on https://github.com/salesforce/LAVIS/blob/main/lavis/common/utils.py\n",
    "    Supported:\n",
    "        .pkl, .pickle, .npy, .json\n",
    "    \"\"\"\n",
    "    file_ext = os.path.splitext(filename)[1]\n",
    "    if file_ext == '.txt':\n",
    "        with open(filename,'r+') as fopen:\n",
    "            data = fopen.readlines()\n",
    "    elif file_ext in [\".npy\",\".npz\"]:\n",
    "        data = np.load(filename,allow_pickle=True)\n",
    "    elif file_ext == '.json':\n",
    "        with open(filename,'r+') as fopen:\n",
    "            data = json.load(fopen)\n",
    "    elif file_ext == \".yaml\":\n",
    "        with open(filename,'r+') as fopen:\n",
    "            data = yaml.load(fopen,Loader=yaml.FullLoader)\n",
    "    else:\n",
    "        # assume pickle \n",
    "        with open(filename,\"rb+\") as fopen:\n",
    "            data = pickle.load(fopen)\n",
    "    return data "
   ]
  },
  {
   "cell_type": "code",
   "execution_count": 4,
   "metadata": {},
   "outputs": [
    {
     "name": "stderr",
     "output_type": "stream",
     "text": [
      "100%|██████████| 20210/20210 [02:02<00:00, 164.50it/s]\n"
     ]
    }
   ],
   "source": [
    "dino_feature_dir = \"/shared/rsaas/dino_sam/features/dinov2/ADE20K/train\"\n",
    "train_region_labels_dir = \"/shared/rsaas/dino_sam/region_labels/ADE20K/train\"\n",
    "sam_region_embedding_dir=\"/shared/rsaas/dino_sam/sam_region_embeddings/ADE20K/train\"\n",
    "max_pool_dir=\"/shared/rsaas/dino_sam/region_features_max_pooled/train\"\n",
    "\n",
    "label_all = []\n",
    "\n",
    "##First lets get the labels area wise\n",
    "label_files = os.listdir(train_region_labels_dir)\n",
    "\n",
    "for file_name in tqdm(label_files):\n",
    "    if '.pkl'  not in file_name:\n",
    "        file_name = file_name + '.pkl'\n",
    "    sam_masks = open_file(os.path.join(max_pool_dir,file_name))\n",
    "    file_labels = open_file(os.path.join(train_region_labels_dir,file_name))\n",
    "\n",
    "    for i, area in enumerate(sam_masks):\n",
    "        area_label = file_labels[i]['labels']\n",
    "        target_label = list(area_label.keys())[0]\n",
    "\n",
    "        if area_label[target_label] == 1:\n",
    "            label_all.append(target_label)"
   ]
  },
  {
   "cell_type": "code",
   "execution_count": 4,
   "metadata": {},
   "outputs": [],
   "source": [
    "class CustomDataset(Dataset):\n",
    "    def __init__(self, sam_embed_dir, dino_feat_dir, train_region_labels_dir, max_pool_dir, sam_folder):\n",
    "        super().__init__()\n",
    "        self.sam_embed_files = [f for f in os.listdir(sam_embed_dir) if f.endswith('.pkl')]\n",
    "        self.dino_feat_files = [f for f in os.listdir(dino_feat_dir) if f.endswith('.pkl')]\n",
    "        self.label_files = [f for f in os.listdir(train_region_labels_dir) if f.endswith('.pkl')]\n",
    "        self.sam_embed_dir = sam_embed_dir\n",
    "        self.dino_feat_dir = dino_feat_dir\n",
    "        self.train_region_labels_dir = train_region_labels_dir\n",
    "        self.max_pool_dir = max_pool_dir\n",
    "        self.sam_folder=sam_folder\n",
    "\n",
    "    def __len__(self):\n",
    "        return len(self.sam_embed_files)\n",
    "\n",
    "    def __getitem__(self, idx):\n",
    "        sam_embed_file = self.sam_embed_files[idx]\n",
    "        dino_feat_file = self.dino_feat_files[idx]\n",
    "        label_file = self.label_files[idx]\n",
    "\n",
    "        # Load SAM region embeddings\n",
    "        with open(os.path.join(self.sam_embed_dir, sam_embed_file), 'rb') as f:\n",
    "            sam_embeds_all = pickle.load(f)\n",
    "\n",
    "        # Load DINO whole image features\n",
    "        with open(os.path.join(self.dino_feat_dir, dino_feat_file), 'rb') as f:\n",
    "            dino_feats = pickle.load(f)\n",
    "\n",
    "        # Load labels\n",
    "        max_pool_masks = open_file(os.path.join(self.max_pool_dir, label_file))\n",
    "        file_labels = open_file(os.path.join(self.train_region_labels_dir, label_file))\n",
    "\n",
    "        # Filtering the SAM embeddings based on the presence of labels\n",
    "        sam_embeds = []\n",
    "        label_all = []\n",
    "        for i, area in enumerate(max_pool_masks):\n",
    "            area_label = file_labels[i]['labels']\n",
    "            target_label = list(area_label.keys())[0]\n",
    "            if area_label[target_label] == 1:\n",
    "                label_all.append(target_label)\n",
    "                sam_embeds.append(sam_embeds_all[i])\n",
    "\n",
    "        # print(f\"Index {idx} corresponds to files: {sam_embed_file}, {dino_feat_file}, {label_file}\")\n",
    "        # print(f\"Data point {idx}: {len(sam_embeds)} SAM embeddings, {len(label_all)} labels\")\n",
    "\n",
    "        return torch.tensor(sam_embeds), torch.tensor(dino_feats), torch.tensor(label_all, dtype=torch.long)\n",
    "\n",
    "# Usage:\n",
    "# sam_embed_dir = \"/shared/rsaas/dino_sam/sam_region_embeddings/ADE20K/train\"\n",
    "sam_embed_dir=\"/shared/rsaas/dino_sam/sam_region_embeddings/pascal_voc/train_upscale\"\n",
    "dino_feat_dir = \"/shared/rsaas/dino_sam/features/dinov2/pascal_voc_layer_23/train\"\n",
    "train_region_labels_dir = '/shared/rsaas/dino_sam/region_labels/pascal_voc/train'\n",
    "max_pool_dir = \"/shared/rsaas/dino_sam/region_features/dinov2/pascal_voc_layer_23/train\"\n",
    "sam_folder = \"/shared/rsaas/dino_sam/sam_output/pascal_voc/train\"\n",
    "dataset= CustomDataset(sam_embed_dir, dino_feat_dir, train_region_labels_dir, max_pool_dir, sam_folder)\n",
    "dataloader = DataLoader(dataset, batch_size=1, shuffle=True)"
   ]
  },
  {
   "cell_type": "code",
   "execution_count": 68,
   "metadata": {},
   "outputs": [
    {
     "name": "stdout",
     "output_type": "stream",
     "text": [
      "Index 0 corresponds to files: 2010_005820.pkl, 2010_005820.pkl, 2010_005820.pkl\n",
      "Data point 0: 50 SAM embeddings, 50 labels\n",
      "Index 1 corresponds to files: 2010_005317.pkl, 2010_005317.pkl, 2010_005317.pkl\n",
      "Data point 1: 14 SAM embeddings, 14 labels\n",
      "Index 2 corresponds to files: 2009_000895.pkl, 2009_000895.pkl, 2009_000895.pkl\n",
      "Data point 2: 128 SAM embeddings, 128 labels\n"
     ]
    }
   ],
   "source": [
    "dataset = CustomDataset(sam_embed_dir, dino_feat_dir, train_region_labels_dir, max_pool_dir, sam_folder)\n",
    "\n",
    "# Manually call __getitem__ on a few indices\n",
    "for idx in range(3):  \n",
    "    dataset.__getitem__(idx)"
   ]
  },
  {
   "cell_type": "code",
   "execution_count": 7,
   "metadata": {},
   "outputs": [
    {
     "name": "stdout",
     "output_type": "stream",
     "text": [
      "Index 0 corresponds to files: ADE_train_00019668.pkl, ADE_train_00019668.pkl, ADE_train_00019668.pkl\n",
      "Data point 0: 95 SAM embeddings, 95 labels\n"
     ]
    }
   ],
   "source": [
    "sample = dataset[0]"
   ]
  },
  {
   "cell_type": "code",
   "execution_count": 71,
   "metadata": {},
   "outputs": [],
   "source": [
    "# for i, (sam_embeds, dino_feats, labels) in enumerate(dataloader):\n",
    "#     print(f\"Batch {i}:\")\n",
    "#     print(f\"SAM embeddings shape: {sam_embeds.shape}\")\n",
    "#     print(f\"DINO features shape: {dino_feats.shape}\")\n",
    "#     print(f\"Labels shape: {labels.shape}\")\n",
    "\n",
    "#     # 3. Inspect values\n",
    "#     print(f\"Unique values in SAM embeddings: {torch.unique(sam_embeds)}\")\n",
    "#     print(f\"Unique values in DINO features: {torch.unique(dino_feats)}\")\n",
    "    \n",
    "#     if torch.isnan(sam_embeds).any():\n",
    "#         print(\"Warning: NaN values detected in SAM embeddings!\")\n",
    "#     if torch.isnan(dino_feats).any():\n",
    "#         print(\"Warning: NaN values detected in DINO features!\")\n",
    "#     if torch.isnan(labels.float()).any():\n",
    "#         print(\"Warning: NaN values detected in labels!\")\n",
    "\n",
    "# # 5. Check data distribution\n",
    "# all_labels = []\n",
    "# for _, _, labels in dataloader:\n",
    "#     all_labels.extend(labels.tolist())\n",
    "\n",
    "# from collections import Counter\n",
    "# label_counts = Counter(all_labels)\n",
    "# print(\"Label distribution:\", label_counts)"
   ]
  },
  {
   "cell_type": "code",
   "execution_count": null,
   "metadata": {},
   "outputs": [],
   "source": [
    "dino_feature_dir = \"/shared/rsaas/dino_sam/features/dinov2/ADE20K/train\"\n",
    "train_region_labels_dir = \"/shared/rsaas/dino_sam/region_labels/ADE20K/train\"\n",
    "sam_region_embedding_dir=\"/shared/rsaas/dino_sam/sam_region_embeddings/ADE20K/train\"\n",
    "max_pool_dir=\"/shared/rsaas/dino_sam/region_features_max_pooled/train\"\n",
    "\n",
    "label_all = []\n",
    "\n",
    "##First lets get the labels area wise\n",
    "label_files = os.listdir(train_region_labels_dir)\n",
    "\n",
    "for file_name in tqdm(label_files):\n",
    "    if '.pkl'  not in file_name:\n",
    "        file_name = file_name + '.pkl'\n",
    "    sam_masks = open_file(os.path.join(max_pool_dir,file_name))\n",
    "    file_labels = open_file(os.path.join(train_region_labels_dir,file_name))\n",
    "\n",
    "    for i, area in enumerate(sam_masks):\n",
    "        area_label = file_labels[i]['labels']\n",
    "        target_label = list(area_label.keys())[0]\n",
    "\n",
    "        if area_label[target_label] == 1:\n",
    "            label_all.append(target_label)"
   ]
  },
  {
   "cell_type": "code",
   "execution_count": 16,
   "metadata": {},
   "outputs": [
    {
     "data": {
      "text/plain": [
       "20210"
      ]
     },
     "execution_count": 16,
     "metadata": {},
     "output_type": "execute_result"
    }
   ],
   "source": [
    "sam_folder = \"/shared/rsaas/dino_sam/sam_output/ADE20K/train\"  # Change this to your folder path\n",
    "sam_files = os.listdir(sam_folder)\n",
    "len(sam_files)"
   ]
  },
  {
   "cell_type": "code",
   "execution_count": 35,
   "metadata": {},
   "outputs": [
    {
     "data": {
      "text/plain": [
       "'Number of SAM regions = 41'"
      ]
     },
     "execution_count": 35,
     "metadata": {},
     "output_type": "execute_result"
    }
   ],
   "source": [
    "with open('/shared/rsaas/dino_sam/sam_output/ADE20K/train/ADE_train_00006321.json','r+') as s:\n",
    "    sam_regions = json.load(s)\n",
    "'Number of SAM regions = '+ str(len(sam_regions))"
   ]
  },
  {
   "cell_type": "code",
   "execution_count": 28,
   "metadata": {},
   "outputs": [
    {
     "name": "stdout",
     "output_type": "stream",
     "text": [
      "File: ADE_train_00000001.json, Number of SAM regions = 172\n",
      "File: ADE_train_00000002.json, Number of SAM regions = 114\n",
      "File: ADE_train_00000003.json, Number of SAM regions = 80\n",
      "File: ADE_train_00000004.json, Number of SAM regions = 46\n",
      "File: ADE_train_00000005.json, Number of SAM regions = 97\n",
      "File: ADE_train_00000006.json, Number of SAM regions = 60\n",
      "File: ADE_train_00000007.json, Number of SAM regions = 85\n",
      "File: ADE_train_00000008.json, Number of SAM regions = 33\n",
      "File: ADE_train_00000009.json, Number of SAM regions = 39\n",
      "File: ADE_train_00000010.json, Number of SAM regions = 60\n"
     ]
    }
   ],
   "source": [
    "import json\n",
    "import os\n",
    "\n",
    "dir_path = '/shared/rsaas/dino_sam/sam_output/ADE20K/train/'\n",
    "all_files = [f for f in os.listdir(dir_path) if f.endswith('.json')]\n",
    "\n",
    "all_files.sort()\n",
    "for file in all_files[:10]:\n",
    "    file_path = os.path.join(dir_path, file)\n",
    "    with open(file_path, 'r') as f:\n",
    "        sam_regions = json.load(f)\n",
    "    print(f'File: {file}, Number of SAM regions = {len(sam_regions)}')"
   ]
  },
  {
   "cell_type": "code",
   "execution_count": 29,
   "metadata": {},
   "outputs": [
    {
     "name": "stdout",
     "output_type": "stream",
     "text": [
      "File: ADE_train_00000001.pkl, Number of regions = 172\n",
      "File: ADE_train_00000002.pkl, Number of regions = 114\n",
      "File: ADE_train_00000003.pkl, Number of regions = 80\n",
      "File: ADE_train_00000004.pkl, Number of regions = 46\n",
      "File: ADE_train_00000005.pkl, Number of regions = 97\n",
      "File: ADE_train_00000006.pkl, Number of regions = 60\n",
      "File: ADE_train_00000007.pkl, Number of regions = 85\n",
      "File: ADE_train_00000008.pkl, Number of regions = 33\n",
      "File: ADE_train_00000009.pkl, Number of regions = 39\n",
      "File: ADE_train_00000010.pkl, Number of regions = 60\n"
     ]
    }
   ],
   "source": [
    "import os\n",
    "import pickle\n",
    "\n",
    "dir_path = '/shared/rsaas/dino_sam/region_features_max_pooled/train'\n",
    "\n",
    "all_files = [f for f in os.listdir(dir_path) if f.endswith('.pkl')]\n",
    "\n",
    "all_files.sort()\n",
    "\n",
    "for file in all_files[:10]:\n",
    "    file_path = os.path.join(dir_path, file)\n",
    "    with open(file_path, 'rb') as f:\n",
    "        region_features = pickle.load(f)\n",
    "    print(f'File: {file}, Number of regions = {len(region_features)}')"
   ]
  },
  {
   "cell_type": "code",
   "execution_count": 30,
   "metadata": {},
   "outputs": [
    {
     "name": "stdout",
     "output_type": "stream",
     "text": [
      "File: ADE_train_00000001.pkl, Number of regions = 172\n",
      "File: ADE_train_00000002.pkl, Number of regions = 114\n",
      "File: ADE_train_00000003.pkl, Number of regions = 80\n",
      "File: ADE_train_00000004.pkl, Number of regions = 46\n",
      "File: ADE_train_00000005.pkl, Number of regions = 97\n",
      "File: ADE_train_00000006.pkl, Number of regions = 60\n",
      "File: ADE_train_00000007.pkl, Number of regions = 85\n",
      "File: ADE_train_00000008.pkl, Number of regions = 33\n",
      "File: ADE_train_00000009.pkl, Number of regions = 39\n",
      "File: ADE_train_00000010.pkl, Number of regions = 60\n"
     ]
    }
   ],
   "source": [
    "import os\n",
    "import pickle\n",
    "\n",
    "dir_path = '/shared/rsaas/dino_sam/region_labels/ADE20K/train'\n",
    "\n",
    "all_files = [f for f in os.listdir(dir_path) if f.endswith('.pkl')]\n",
    "\n",
    "all_files.sort()\n",
    "\n",
    "for file in all_files[:10]:\n",
    "    file_path = os.path.join(dir_path, file)\n",
    "    with open(file_path, 'rb') as f:\n",
    "        labels = pickle.load(f)\n",
    "    print(f'File: {file}, Number of regions = {len(labels)}')"
   ]
  },
  {
   "cell_type": "code",
   "execution_count": 31,
   "metadata": {},
   "outputs": [
    {
     "name": "stdout",
     "output_type": "stream",
     "text": [
      "File: ADE_train_00000001.pkl, Number of regions = 172\n",
      "File: ADE_train_00000002.pkl, Number of regions = 114\n",
      "File: ADE_train_00000003.pkl, Number of regions = 80\n",
      "File: ADE_train_00000004.pkl, Number of regions = 46\n",
      "File: ADE_train_00000005.pkl, Number of regions = 97\n",
      "File: ADE_train_00000006.pkl, Number of regions = 60\n",
      "File: ADE_train_00000007.pkl, Number of regions = 85\n",
      "File: ADE_train_00000008.pkl, Number of regions = 33\n",
      "File: ADE_train_00000009.pkl, Number of regions = 39\n",
      "File: ADE_train_00000010.pkl, Number of regions = 60\n"
     ]
    }
   ],
   "source": [
    "import os\n",
    "import pickle\n",
    "\n",
    "dir_path = '/shared/rsaas/dino_sam/sam_region_embeddings/ADE20K/train'\n",
    "\n",
    "all_files = [f for f in os.listdir(dir_path) if f.endswith('.pkl')]\n",
    "\n",
    "all_files.sort()\n",
    "\n",
    "for file in all_files[:10]:\n",
    "    file_path = os.path.join(dir_path, file)\n",
    "    with open(file_path, 'rb') as f:\n",
    "        region_features = pickle.load(f)\n",
    "    print(f'File: {file}, Number of regions = {len(region_features)}')"
   ]
  },
  {
   "cell_type": "code",
   "execution_count": 5,
   "metadata": {},
   "outputs": [],
   "source": [
    "class AttentionSegmentation(nn.Module):\n",
    "    def __init__(self, embed_dim, num_heads, num_classes):\n",
    "        super(AttentionSegmentation, self).__init__()\n",
    "\n",
    "        # Multi-Head Attention\n",
    "        self.attention = nn.MultiheadAttention(embed_dim, num_heads)\n",
    "        \n",
    "        # Final linear layer to output area-wise labels\n",
    "        self.fc = nn.Linear(embed_dim, num_classes)\n",
    "\n",
    "    def forward(self, sam_embeds, dino_feats):\n",
    "        # Compute the average feature representation of DINO embeddings for the entire image\n",
    "        #dino_avg = dino_feats.mean(dim=[-1, -2]).repeat(sam_embeds.shape[0], 1, 1)\n",
    "\n",
    "        # sam_embeds are queries: shape [seq_len, batch_size, embed_dim]\n",
    "        # dino_avg are keys and values: shape [seq_len, batch_size, embed_dim]\n",
    "        attn_output, _ = self.attention(sam_embeds, dino_feats, dino_feats)\n",
    "\n",
    "        # Predict area-wise labels\n",
    "        output = self.fc(attn_output)\n",
    "        \n",
    "        return output"
   ]
  },
  {
   "cell_type": "code",
   "execution_count": 6,
   "metadata": {},
   "outputs": [],
   "source": [
    "class AddDinoV2PosEmbeds(nn.Module):\n",
    "    def __init__(self, dino_pos_embeds: torch.Tensor):\n",
    "        super().__init__()\n",
    "        self.pos_embeds = dino_pos_embeds.detach()\n",
    "\n",
    "    def forward(self, dino_feats):\n",
    "        '''\n",
    "        Dino features are expected to be of shape (bsize, patches_h, patches_w, dim)\n",
    "        where patches_h = padded_h // patch_size and patches_w = padded_w // patch_size.\n",
    "\n",
    "        The CLS token should NOT be included.\n",
    "        '''\n",
    "        assert dino_feats.dim() == 4, 'Expected input of shape (bsize, patches_h, patches_w, dim))'\n",
    "        interpolated_pos_embeds = self.interpolate_pos_encoding(dino_feats)\n",
    "\n",
    "        return dino_feats + interpolated_pos_embeds\n",
    "\n",
    "    def interpolate_pos_encoding(self, dino_feats: torch.Tensor):\n",
    "        # Modified from https://github.com/facebookresearch/dinov2/blob/44abdbe27c0a5d4a826eff72b7c8ab0203d02328/dinov2/models/vision_transformer.py#L164\n",
    "        previous_dtype = dino_feats.dtype\n",
    "        npatch = dino_feats.shape[1] * dino_feats.shape[2]\n",
    "        N = self.pos_embeds.shape[1] - 1 # Ignore CLS\n",
    "        sqrt_N = np.sqrt(N)\n",
    "\n",
    "\n",
    "        #if npatch == N and dino_feats.shape[1] == dino_feats.shape[2]:\n",
    "         #   return self.pos_embeds[:, 1:].reshape(self.pos_embeds.shape[0], int(sqrt_N), int(sqrt_N))\n",
    "\n",
    "        pos_embed = self.pos_embeds.float()\n",
    "        patch_pos_embed = pos_embed[:, 1:] # Ignore CLS embedding\n",
    "        dim = dino_feats.shape[-1]\n",
    "\n",
    "        # Target height, width is height, width of the dino features\n",
    "        h0 = dino_feats.shape[1]\n",
    "        w0 = dino_feats.shape[2]\n",
    "\n",
    "        # we add a small number to avoid floating point error in the interpolation\n",
    "        # see discussion at https://github.com/facebookresearch/dino/issues/8\n",
    "        w0, h0 = w0 + 0.1, h0 + 0.1\n",
    "\n",
    "        sx, sy = float(w0) / sqrt_N, float(h0) / sqrt_N\n",
    "        patch_pos_embed = nn.functional.interpolate(\n",
    "            patch_pos_embed.reshape(1, int(sqrt_N), int(sqrt_N), dim).permute(0, 3, 1, 2), # (dim to second spot)\n",
    "            scale_factor=(sy, sx),\n",
    "            mode=\"bicubic\",\n",
    "        )\n",
    "\n",
    "        assert int(h0) == patch_pos_embed.shape[-2]\n",
    "        assert int(w0) == patch_pos_embed.shape[-1]\n",
    "        patch_pos_embed = patch_pos_embed.permute(0, 2, 3, 1) # (dim to end)\n",
    "\n",
    "        return patch_pos_embed.to(previous_dtype)"
   ]
  },
  {
   "cell_type": "code",
   "execution_count": 10,
   "metadata": {},
   "outputs": [
    {
     "name": "stderr",
     "output_type": "stream",
     "text": [
      "Using cache found in /home/st34/.cache/torch/hub/facebookresearch_dinov2_main\n",
      "/home/st34/.cache/torch/hub/facebookresearch_dinov2_main/dinov2/layers/swiglu_ffn.py:51: UserWarning: xFormers is not available (SwiGLU)\n",
      "  warnings.warn(\"xFormers is not available (SwiGLU)\")\n",
      "/home/st34/.cache/torch/hub/facebookresearch_dinov2_main/dinov2/layers/attention.py:33: UserWarning: xFormers is not available (Attention)\n",
      "  warnings.warn(\"xFormers is not available (Attention)\")\n",
      "/home/st34/.cache/torch/hub/facebookresearch_dinov2_main/dinov2/layers/block.py:40: UserWarning: xFormers is not available (Block)\n",
      "  warnings.warn(\"xFormers is not available (Block)\")\n"
     ]
    }
   ],
   "source": [
    "from tqdm import tqdm\n",
    "\n",
    "# Model instantiation\n",
    "embed_dim = 1024  # Adjusted feature dimension for sam_embeds and dino_feats\n",
    "num_heads = 8  # Number of heads in MultiheadAttention mechanism\n",
    "num_classes = 151  # Number of classes for area-wise labels\n",
    "\n",
    "dino = torch.hub.load('facebookresearch/dinov2', 'dinov2_vitl14')\n",
    "model = AttentionSegmentation(embed_dim, num_heads, num_classes)\n",
    "adder = AddDinoV2PosEmbeds(dino.pos_embed)\n",
    "optimizer = torch.optim.Adam(model.parameters(), lr=5e-4)\n",
    "criterion = nn.CrossEntropyLoss()\n"
   ]
  },
  {
   "cell_type": "code",
   "execution_count": 7,
   "metadata": {},
   "outputs": [
    {
     "name": "stderr",
     "output_type": "stream",
     "text": [
      "Using cache found in /home/st34/.cache/torch/hub/facebookresearch_dinov2_main\n",
      "/home/st34/.cache/torch/hub/facebookresearch_dinov2_main/dinov2/layers/swiglu_ffn.py:51: UserWarning: xFormers is not available (SwiGLU)\n",
      "  warnings.warn(\"xFormers is not available (SwiGLU)\")\n",
      "/home/st34/.cache/torch/hub/facebookresearch_dinov2_main/dinov2/layers/attention.py:33: UserWarning: xFormers is not available (Attention)\n",
      "  warnings.warn(\"xFormers is not available (Attention)\")\n",
      "/home/st34/.cache/torch/hub/facebookresearch_dinov2_main/dinov2/layers/block.py:40: UserWarning: xFormers is not available (Block)\n",
      "  warnings.warn(\"xFormers is not available (Block)\")\n",
      "  0%|          | 0/1464 [00:00<?, ?it/s]/srv/condor/execute/dir_106648/ipykernel_110462/2727138654.py:46: UserWarning: Creating a tensor from a list of numpy.ndarrays is extremely slow. Please consider converting the list to a single numpy.ndarray with numpy.array() before converting to a tensor. (Triggered internally at /opt/conda/conda-bld/pytorch_1670525552843/work/torch/csrc/utils/tensor_new.cpp:230.)\n",
      "  return torch.tensor(sam_embeds), torch.tensor(dino_feats), torch.tensor(label_all, dtype=torch.long)\n",
      "100%|██████████| 1464/1464 [02:34<00:00,  9.45it/s]\n"
     ]
    },
    {
     "name": "stdout",
     "output_type": "stream",
     "text": [
      "Epoch 1, Loss: 0.15402387082576752\n"
     ]
    },
    {
     "name": "stderr",
     "output_type": "stream",
     "text": [
      "100%|██████████| 1464/1464 [02:00<00:00, 12.15it/s]\n"
     ]
    },
    {
     "name": "stdout",
     "output_type": "stream",
     "text": [
      "Epoch 2, Loss: 0.19234521687030792\n"
     ]
    },
    {
     "name": "stderr",
     "output_type": "stream",
     "text": [
      "100%|██████████| 1464/1464 [01:58<00:00, 12.37it/s]\n"
     ]
    },
    {
     "name": "stdout",
     "output_type": "stream",
     "text": [
      "Epoch 3, Loss: 0.06279391050338745\n"
     ]
    },
    {
     "name": "stderr",
     "output_type": "stream",
     "text": [
      "100%|██████████| 1464/1464 [02:00<00:00, 12.19it/s]\n"
     ]
    },
    {
     "name": "stdout",
     "output_type": "stream",
     "text": [
      "Epoch 4, Loss: 0.06625336408615112\n"
     ]
    },
    {
     "name": "stderr",
     "output_type": "stream",
     "text": [
      "100%|██████████| 1464/1464 [01:49<00:00, 13.37it/s]\n"
     ]
    },
    {
     "name": "stdout",
     "output_type": "stream",
     "text": [
      "Epoch 5, Loss: 0.059938907623291016\n"
     ]
    },
    {
     "name": "stderr",
     "output_type": "stream",
     "text": [
      "100%|██████████| 1464/1464 [01:40<00:00, 14.61it/s]\n"
     ]
    },
    {
     "name": "stdout",
     "output_type": "stream",
     "text": [
      "Epoch 6, Loss: 0.11856924742460251\n"
     ]
    },
    {
     "name": "stderr",
     "output_type": "stream",
     "text": [
      "100%|██████████| 1464/1464 [01:42<00:00, 14.35it/s]\n"
     ]
    },
    {
     "name": "stdout",
     "output_type": "stream",
     "text": [
      "Epoch 7, Loss: 0.021008405834436417\n"
     ]
    },
    {
     "name": "stderr",
     "output_type": "stream",
     "text": [
      "100%|██████████| 1464/1464 [01:53<00:00, 12.87it/s]\n"
     ]
    },
    {
     "name": "stdout",
     "output_type": "stream",
     "text": [
      "Epoch 8, Loss: 0.1580812782049179\n"
     ]
    },
    {
     "name": "stderr",
     "output_type": "stream",
     "text": [
      "100%|██████████| 1464/1464 [02:00<00:00, 12.20it/s]\n"
     ]
    },
    {
     "name": "stdout",
     "output_type": "stream",
     "text": [
      "Epoch 9, Loss: 0.05267233029007912\n"
     ]
    },
    {
     "name": "stderr",
     "output_type": "stream",
     "text": [
      "100%|██████████| 1464/1464 [01:52<00:00, 12.97it/s]\n"
     ]
    },
    {
     "name": "stdout",
     "output_type": "stream",
     "text": [
      "Epoch 10, Loss: 0.0741337239742279\n"
     ]
    },
    {
     "name": "stderr",
     "output_type": "stream",
     "text": [
      "100%|██████████| 1464/1464 [01:43<00:00, 14.20it/s]\n"
     ]
    },
    {
     "name": "stdout",
     "output_type": "stream",
     "text": [
      "Epoch 11, Loss: 0.39886021614074707\n"
     ]
    },
    {
     "name": "stderr",
     "output_type": "stream",
     "text": [
      "100%|██████████| 1464/1464 [01:42<00:00, 14.31it/s]\n"
     ]
    },
    {
     "name": "stdout",
     "output_type": "stream",
     "text": [
      "Epoch 12, Loss: 0.0339006632566452\n"
     ]
    },
    {
     "name": "stderr",
     "output_type": "stream",
     "text": [
      "100%|██████████| 1464/1464 [01:44<00:00, 14.01it/s]\n"
     ]
    },
    {
     "name": "stdout",
     "output_type": "stream",
     "text": [
      "Epoch 13, Loss: 0.11165322363376617\n"
     ]
    },
    {
     "name": "stderr",
     "output_type": "stream",
     "text": [
      "100%|██████████| 1464/1464 [01:46<00:00, 13.77it/s]\n"
     ]
    },
    {
     "name": "stdout",
     "output_type": "stream",
     "text": [
      "Epoch 14, Loss: 0.08766098320484161\n"
     ]
    },
    {
     "name": "stderr",
     "output_type": "stream",
     "text": [
      "100%|██████████| 1464/1464 [01:55<00:00, 12.66it/s]\n"
     ]
    },
    {
     "name": "stdout",
     "output_type": "stream",
     "text": [
      "Epoch 15, Loss: 0.09161882847547531\n"
     ]
    },
    {
     "name": "stderr",
     "output_type": "stream",
     "text": [
      "100%|██████████| 1464/1464 [01:48<00:00, 13.45it/s]\n"
     ]
    },
    {
     "name": "stdout",
     "output_type": "stream",
     "text": [
      "Epoch 16, Loss: 0.06078340485692024\n"
     ]
    },
    {
     "name": "stderr",
     "output_type": "stream",
     "text": [
      "100%|██████████| 1464/1464 [01:51<00:00, 13.18it/s]\n"
     ]
    },
    {
     "name": "stdout",
     "output_type": "stream",
     "text": [
      "Epoch 17, Loss: 0.018661096692085266\n"
     ]
    },
    {
     "name": "stderr",
     "output_type": "stream",
     "text": [
      "100%|██████████| 1464/1464 [01:52<00:00, 13.06it/s]\n"
     ]
    },
    {
     "name": "stdout",
     "output_type": "stream",
     "text": [
      "Epoch 18, Loss: 0.11764728277921677\n"
     ]
    },
    {
     "name": "stderr",
     "output_type": "stream",
     "text": [
      "100%|██████████| 1464/1464 [01:49<00:00, 13.42it/s]\n"
     ]
    },
    {
     "name": "stdout",
     "output_type": "stream",
     "text": [
      "Epoch 19, Loss: 0.006495494861155748\n"
     ]
    },
    {
     "name": "stderr",
     "output_type": "stream",
     "text": [
      "100%|██████████| 1464/1464 [01:48<00:00, 13.48it/s]\n"
     ]
    },
    {
     "name": "stdout",
     "output_type": "stream",
     "text": [
      "Epoch 20, Loss: 0.017473818734288216\n"
     ]
    },
    {
     "name": "stderr",
     "output_type": "stream",
     "text": [
      "100%|██████████| 1464/1464 [01:46<00:00, 13.69it/s]\n"
     ]
    },
    {
     "name": "stdout",
     "output_type": "stream",
     "text": [
      "Epoch 21, Loss: 1.2946491241455078\n"
     ]
    },
    {
     "name": "stderr",
     "output_type": "stream",
     "text": [
      "100%|██████████| 1464/1464 [01:47<00:00, 13.61it/s]\n"
     ]
    },
    {
     "name": "stdout",
     "output_type": "stream",
     "text": [
      "Epoch 22, Loss: 0.3193650245666504\n"
     ]
    },
    {
     "name": "stderr",
     "output_type": "stream",
     "text": [
      "100%|██████████| 1464/1464 [01:45<00:00, 13.82it/s]\n"
     ]
    },
    {
     "name": "stdout",
     "output_type": "stream",
     "text": [
      "Epoch 23, Loss: 0.03220879286527634\n"
     ]
    },
    {
     "name": "stderr",
     "output_type": "stream",
     "text": [
      "100%|██████████| 1464/1464 [01:43<00:00, 14.10it/s]\n"
     ]
    },
    {
     "name": "stdout",
     "output_type": "stream",
     "text": [
      "Epoch 24, Loss: 0.028765186667442322\n"
     ]
    },
    {
     "name": "stderr",
     "output_type": "stream",
     "text": [
      "100%|██████████| 1464/1464 [01:46<00:00, 13.76it/s]\n"
     ]
    },
    {
     "name": "stdout",
     "output_type": "stream",
     "text": [
      "Epoch 25, Loss: 0.0044217584654688835\n"
     ]
    },
    {
     "name": "stderr",
     "output_type": "stream",
     "text": [
      "100%|██████████| 1464/1464 [01:44<00:00, 14.01it/s]\n"
     ]
    },
    {
     "name": "stdout",
     "output_type": "stream",
     "text": [
      "Epoch 26, Loss: 0.016778305172920227\n"
     ]
    },
    {
     "name": "stderr",
     "output_type": "stream",
     "text": [
      "100%|██████████| 1464/1464 [01:47<00:00, 13.65it/s]\n"
     ]
    },
    {
     "name": "stdout",
     "output_type": "stream",
     "text": [
      "Epoch 27, Loss: 0.05384180694818497\n"
     ]
    },
    {
     "name": "stderr",
     "output_type": "stream",
     "text": [
      "100%|██████████| 1464/1464 [01:47<00:00, 13.66it/s]\n"
     ]
    },
    {
     "name": "stdout",
     "output_type": "stream",
     "text": [
      "Epoch 28, Loss: 0.0137576162815094\n"
     ]
    },
    {
     "name": "stderr",
     "output_type": "stream",
     "text": [
      "100%|██████████| 1464/1464 [01:51<00:00, 13.18it/s]\n"
     ]
    },
    {
     "name": "stdout",
     "output_type": "stream",
     "text": [
      "Epoch 29, Loss: 0.01686779409646988\n"
     ]
    },
    {
     "name": "stderr",
     "output_type": "stream",
     "text": [
      "100%|██████████| 1464/1464 [01:44<00:00, 14.00it/s]\n"
     ]
    },
    {
     "name": "stdout",
     "output_type": "stream",
     "text": [
      "Epoch 30, Loss: 0.006825544405728579\n"
     ]
    },
    {
     "name": "stderr",
     "output_type": "stream",
     "text": [
      "100%|██████████| 1464/1464 [01:45<00:00, 13.94it/s]\n"
     ]
    },
    {
     "name": "stdout",
     "output_type": "stream",
     "text": [
      "Epoch 31, Loss: 0.11318354308605194\n"
     ]
    },
    {
     "name": "stderr",
     "output_type": "stream",
     "text": [
      "100%|██████████| 1464/1464 [01:47<00:00, 13.67it/s]\n"
     ]
    },
    {
     "name": "stdout",
     "output_type": "stream",
     "text": [
      "Epoch 32, Loss: 0.0001775269629433751\n"
     ]
    },
    {
     "name": "stderr",
     "output_type": "stream",
     "text": [
      "100%|██████████| 1464/1464 [01:43<00:00, 14.10it/s]\n"
     ]
    },
    {
     "name": "stdout",
     "output_type": "stream",
     "text": [
      "Epoch 33, Loss: 0.00593061838299036\n"
     ]
    },
    {
     "name": "stderr",
     "output_type": "stream",
     "text": [
      "100%|██████████| 1464/1464 [01:45<00:00, 13.85it/s]\n"
     ]
    },
    {
     "name": "stdout",
     "output_type": "stream",
     "text": [
      "Epoch 34, Loss: 0.05688757449388504\n"
     ]
    },
    {
     "name": "stderr",
     "output_type": "stream",
     "text": [
      "100%|██████████| 1464/1464 [01:46<00:00, 13.80it/s]\n"
     ]
    },
    {
     "name": "stdout",
     "output_type": "stream",
     "text": [
      "Epoch 35, Loss: 0.33384108543395996\n"
     ]
    },
    {
     "name": "stderr",
     "output_type": "stream",
     "text": [
      "100%|██████████| 1464/1464 [01:53<00:00, 12.91it/s]\n"
     ]
    },
    {
     "name": "stdout",
     "output_type": "stream",
     "text": [
      "Epoch 36, Loss: 0.5960195660591125\n"
     ]
    },
    {
     "name": "stderr",
     "output_type": "stream",
     "text": [
      "100%|██████████| 1464/1464 [01:48<00:00, 13.48it/s]\n"
     ]
    },
    {
     "name": "stdout",
     "output_type": "stream",
     "text": [
      "Epoch 37, Loss: 0.015575484372675419\n"
     ]
    },
    {
     "name": "stderr",
     "output_type": "stream",
     "text": [
      "100%|██████████| 1464/1464 [01:56<00:00, 12.54it/s]\n"
     ]
    },
    {
     "name": "stdout",
     "output_type": "stream",
     "text": [
      "Epoch 38, Loss: 0.14141249656677246\n"
     ]
    },
    {
     "name": "stderr",
     "output_type": "stream",
     "text": [
      "100%|██████████| 1464/1464 [01:47<00:00, 13.63it/s]\n"
     ]
    },
    {
     "name": "stdout",
     "output_type": "stream",
     "text": [
      "Epoch 39, Loss: 0.24669000506401062\n"
     ]
    },
    {
     "name": "stderr",
     "output_type": "stream",
     "text": [
      "100%|██████████| 1464/1464 [01:44<00:00, 14.00it/s]\n"
     ]
    },
    {
     "name": "stdout",
     "output_type": "stream",
     "text": [
      "Epoch 40, Loss: 0.008319132961332798\n"
     ]
    },
    {
     "name": "stderr",
     "output_type": "stream",
     "text": [
      "100%|██████████| 1464/1464 [01:46<00:00, 13.77it/s]\n"
     ]
    },
    {
     "name": "stdout",
     "output_type": "stream",
     "text": [
      "Epoch 41, Loss: 0.09442794322967529\n"
     ]
    },
    {
     "name": "stderr",
     "output_type": "stream",
     "text": [
      "100%|██████████| 1464/1464 [01:47<00:00, 13.65it/s]\n"
     ]
    },
    {
     "name": "stdout",
     "output_type": "stream",
     "text": [
      "Epoch 42, Loss: 0.03771538287401199\n"
     ]
    },
    {
     "name": "stderr",
     "output_type": "stream",
     "text": [
      "100%|██████████| 1464/1464 [02:20<00:00, 10.44it/s]\n"
     ]
    },
    {
     "name": "stdout",
     "output_type": "stream",
     "text": [
      "Epoch 43, Loss: 0.05162985622882843\n"
     ]
    },
    {
     "name": "stderr",
     "output_type": "stream",
     "text": [
      "100%|██████████| 1464/1464 [02:51<00:00,  8.53it/s]\n"
     ]
    },
    {
     "name": "stdout",
     "output_type": "stream",
     "text": [
      "Epoch 44, Loss: 0.06726466864347458\n"
     ]
    },
    {
     "name": "stderr",
     "output_type": "stream",
     "text": [
      "100%|██████████| 1464/1464 [02:28<00:00,  9.83it/s]\n"
     ]
    },
    {
     "name": "stdout",
     "output_type": "stream",
     "text": [
      "Epoch 45, Loss: 0.04972761124372482\n"
     ]
    },
    {
     "name": "stderr",
     "output_type": "stream",
     "text": [
      "100%|██████████| 1464/1464 [02:30<00:00,  9.73it/s]\n"
     ]
    },
    {
     "name": "stdout",
     "output_type": "stream",
     "text": [
      "Epoch 46, Loss: 0.0015709670260548592\n"
     ]
    },
    {
     "name": "stderr",
     "output_type": "stream",
     "text": [
      "100%|██████████| 1464/1464 [01:45<00:00, 13.93it/s]\n"
     ]
    },
    {
     "name": "stdout",
     "output_type": "stream",
     "text": [
      "Epoch 47, Loss: 0.19143901765346527\n"
     ]
    },
    {
     "name": "stderr",
     "output_type": "stream",
     "text": [
      "100%|██████████| 1464/1464 [01:44<00:00, 14.07it/s]\n"
     ]
    },
    {
     "name": "stdout",
     "output_type": "stream",
     "text": [
      "Epoch 48, Loss: 0.02993091754615307\n"
     ]
    },
    {
     "name": "stderr",
     "output_type": "stream",
     "text": [
      "100%|██████████| 1464/1464 [01:41<00:00, 14.37it/s]\n"
     ]
    },
    {
     "name": "stdout",
     "output_type": "stream",
     "text": [
      "Epoch 49, Loss: 0.20461636781692505\n"
     ]
    },
    {
     "name": "stderr",
     "output_type": "stream",
     "text": [
      "100%|██████████| 1464/1464 [01:44<00:00, 13.96it/s]"
     ]
    },
    {
     "name": "stdout",
     "output_type": "stream",
     "text": [
      "Epoch 50, Loss: 0.00010049552656710148\n"
     ]
    },
    {
     "name": "stderr",
     "output_type": "stream",
     "text": [
      "\n"
     ]
    }
   ],
   "source": [
    "\n",
    "# Training loop\n",
    "for epoch in range(50):  # Example number of epochs\n",
    "    for sam_embeds, dino_feats, labels in tqdm(dataloader):\n",
    "        optimizer.zero_grad()\n",
    "\n",
    "        # Squeeze out extra dimension added by dataloader (1, 1, 1024, h, w) -> (1, 1024, h, w)\n",
    "        dino_feats = dino_feats.squeeze(1)\n",
    "        dino_feats = dino_feats.permute(0, 2, 3, 1) # (bsize, 1024, h, w) -> (bsize, h, w, 1024)\n",
    "        dino_feats = adder(dino_feats) # Add positional embeddings\n",
    "\n",
    "        # Reshape the DINO features: [batch_size, 1024, height, width] to [height*width, batch_size, 1024]\n",
    "        # If the spatial dimensions are not consistent, consider using padding or other techniques\n",
    "        dino_feats = dino_feats.permute(1, 2, 0, 3).reshape(-1, dino_feats.shape[0], embed_dim)\n",
    "\n",
    "        # Transpose the inputs for the MultiheadAttention\n",
    "        sam_embeds = sam_embeds.transpose(0, 1) # (embed_dim, n_masks)\n",
    "\n",
    "        outputs = model(sam_embeds, dino_feats)\n",
    "        \n",
    "        # Reshape outputs and labels for loss calculation\n",
    "        outputs = outputs.transpose(0, 1).view(-1, num_classes)\n",
    "        labels = labels.view(-1)\n",
    "\n",
    "        loss = criterion(outputs, labels)\n",
    "        loss.backward()\n",
    "        optimizer.step()\n",
    "\n",
    "    print(f\"Epoch {epoch + 1}, Loss: {loss.item()}\")"
   ]
  },
  {
   "cell_type": "code",
   "execution_count": 18,
   "metadata": {},
   "outputs": [
    {
     "name": "stdout",
     "output_type": "stream",
     "text": [
      "Index 0 corresponds to files: ADE_train_00019668.pkl, ADE_train_00019668.pkl, ADE_train_00019668.pkl\n",
      "Data point 0: 95 SAM embeddings, 95 labels\n"
     ]
    }
   ],
   "source": [
    "batch = next(iter(dataloader))"
   ]
  },
  {
   "cell_type": "code",
   "execution_count": 38,
   "metadata": {},
   "outputs": [
    {
     "data": {
      "text/plain": [
       "torch.Size([95, 21])"
      ]
     },
     "execution_count": 38,
     "metadata": {},
     "output_type": "execute_result"
    }
   ],
   "source": [
    "outputs.shape"
   ]
  },
  {
   "cell_type": "code",
   "execution_count": 10,
   "metadata": {},
   "outputs": [
    {
     "name": "stderr",
     "output_type": "stream",
     "text": [
      "100%|██████████| 1464/1464 [01:06<00:00, 22.04it/s]"
     ]
    },
    {
     "name": "stdout",
     "output_type": "stream",
     "text": [
      "Accuracy on the validation/test data: 95.53116282450864%\n"
     ]
    },
    {
     "name": "stderr",
     "output_type": "stream",
     "text": [
      "\n"
     ]
    }
   ],
   "source": [
    "model.eval()  # Set the model to evaluation mode\n",
    "correct = 0\n",
    "total = 0\n",
    "\n",
    "with torch.no_grad():\n",
    "    for sam_embeds, dino_feats, labels in tqdm(dataloader):\n",
    "\n",
    "        # [Similar preprocessing as training loop...]\n",
    "        dino_feats = dino_feats.squeeze(1)\n",
    "        dino_feats = dino_feats.permute(0, 2, 3, 1)\n",
    "        dino_feats = adder(dino_feats)\n",
    "        dino_feats = dino_feats.permute(1, 2, 0, 3).reshape(-1, dino_feats.shape[0], embed_dim)\n",
    "        sam_embeds = sam_embeds.transpose(0, 1)\n",
    "\n",
    "        outputs = model(sam_embeds, dino_feats)\n",
    "        outputs = outputs.transpose(0, 1).view(-1, num_classes)  # Reshaping outputs for comparison\n",
    "        _, predicted = torch.max(outputs.data, 1)  # Get the index (class) with the highest score\n",
    "\n",
    "        labels = labels.view(-1)  # Ensure that the labels tensor is also reshaped correctly\n",
    "\n",
    "        total += labels.size(0)\n",
    "        correct += (predicted == labels).sum().item()\n",
    "\n",
    "accuracy = 100 * correct / total\n",
    "print(f'Accuracy on the validation/test data: {accuracy}%')"
   ]
  },
  {
   "cell_type": "code",
   "execution_count": 11,
   "metadata": {},
   "outputs": [],
   "source": [
    "sam_embed_val_dir = \"/shared/rsaas/dino_sam/sam_region_embeddings/pascal_voc/val_upscale\"\n",
    "dino_feat_val_dir = \"/shared/rsaas/dino_sam/features/dinov2/pascal_voc_layer_23/val\"\n",
    "train_region_labels_val_dir = '/shared/rsaas/dino_sam/region_labels/pascal_voc/val'\n",
    "max_pool_val_dir = \"/shared/rsaas/dino_sam/region_features/dinov2/pascal_voc_layer_23/val\"\n",
    "sam_val_folder = \"/shared/rsaas/dino_sam/sam_output/pascal_voc/val\"\n",
    "\n",
    "# Create validation dataset and dataloader\n",
    "val_dataset = CustomDataset(sam_embed_val_dir, dino_feat_val_dir, train_region_labels_val_dir, max_pool_val_dir, sam_val_folder)\n",
    "val_dataloader = DataLoader(val_dataset, batch_size=1, shuffle=False)"
   ]
  },
  {
   "cell_type": "code",
   "execution_count": 12,
   "metadata": {},
   "outputs": [
    {
     "name": "stderr",
     "output_type": "stream",
     "text": [
      "100%|██████████| 1449/1449 [04:20<00:00,  5.56it/s]"
     ]
    },
    {
     "name": "stdout",
     "output_type": "stream",
     "text": [
      "Accuracy on the validation/test data: 85.10184613658043%\n"
     ]
    },
    {
     "name": "stderr",
     "output_type": "stream",
     "text": [
      "\n"
     ]
    }
   ],
   "source": [
    "model.eval()  # Set the model to evaluation mode\n",
    "correct = 0\n",
    "total = 0\n",
    "\n",
    "with torch.no_grad():\n",
    "    for sam_embeds, dino_feats, labels in tqdm(val_dataloader):\n",
    "\n",
    "        # [Similar preprocessing as training loop...]\n",
    "        dino_feats = dino_feats.squeeze(1)\n",
    "        dino_feats = dino_feats.permute(0, 2, 3, 1)\n",
    "        dino_feats = adder(dino_feats)\n",
    "        dino_feats = dino_feats.permute(1, 2, 0, 3).reshape(-1, dino_feats.shape[0], embed_dim)\n",
    "        sam_embeds = sam_embeds.transpose(0, 1)\n",
    "\n",
    "        outputs = model(sam_embeds, dino_feats)\n",
    "        outputs = outputs.transpose(0, 1).view(-1, num_classes)  # Reshaping outputs for comparison\n",
    "        _, predicted = torch.max(outputs.data, 1)  # Get the index (class) with the highest score\n",
    "\n",
    "        labels = labels.view(-1)  # Ensure that the labels tensor is also reshaped correctly\n",
    "\n",
    "        total += labels.size(0)\n",
    "        correct += (predicted == labels).sum().item()\n",
    "\n",
    "accuracy = 100 * correct / total\n",
    "print(f'Accuracy on the validation/test data: {accuracy}%')"
   ]
  },
  {
   "cell_type": "code",
   "execution_count": 13,
   "metadata": {},
   "outputs": [
    {
     "data": {
      "text/plain": [
       "85.10184613658043"
      ]
     },
     "execution_count": 13,
     "metadata": {},
     "output_type": "execute_result"
    }
   ],
   "source": [
    "accuracy"
   ]
  },
  {
   "cell_type": "code",
   "execution_count": 20,
   "metadata": {},
   "outputs": [
    {
     "name": "stderr",
     "output_type": "stream",
     "text": [
      "100%|██████████| 1449/1449 [01:02<00:00, 23.23it/s]\n"
     ]
    },
    {
     "ename": "NameError",
     "evalue": "name 'total_intersect_and_union' is not defined",
     "output_type": "error",
     "traceback": [
      "\u001b[0;31m---------------------------------------------------------------------------\u001b[0m",
      "\u001b[0;31mNameError\u001b[0m                                 Traceback (most recent call last)",
      "Cell \u001b[0;32mIn[20], line 51\u001b[0m\n\u001b[1;32m     49\u001b[0m num_classes \u001b[39m=\u001b[39m \u001b[39m151\u001b[39m\n\u001b[1;32m     50\u001b[0m predictions, labels \u001b[39m=\u001b[39m evaluate_model(model, val_dataloader, num_classes)\n\u001b[0;32m---> 51\u001b[0m compute_mIOU(predictions, labels, num_classes)\n",
      "Cell \u001b[0;32mIn[20], line 40\u001b[0m, in \u001b[0;36mcompute_mIOU\u001b[0;34m(predictions, labels, num_classes)\u001b[0m\n\u001b[1;32m     38\u001b[0m reduce_labels \u001b[39m=\u001b[39m \u001b[39mTrue\u001b[39;00m\n\u001b[1;32m     39\u001b[0m n_classes \u001b[39m=\u001b[39m num_classes \u001b[39m-\u001b[39m \u001b[39m1\u001b[39m \u001b[39mif\u001b[39;00m reduce_labels \u001b[39melse\u001b[39;00m num_classes\n\u001b[0;32m---> 40\u001b[0m miou \u001b[39m=\u001b[39m mean_iou(predictions, labels, num_labels\u001b[39m=\u001b[39;49mn_classes, ignore_index\u001b[39m=\u001b[39;49m\u001b[39m255\u001b[39;49m, reduce_labels\u001b[39m=\u001b[39;49mreduce_labels)\n\u001b[1;32m     41\u001b[0m \u001b[39mprint\u001b[39m(miou)\n",
      "Cell \u001b[0;32mIn[19], line 43\u001b[0m, in \u001b[0;36mmean_iou\u001b[0;34m(results, gt_seg_maps, num_labels, ignore_index, nan_to_num, label_map, reduce_labels, reduce_pred_labels)\u001b[0m\n\u001b[1;32m      1\u001b[0m \u001b[39mdef\u001b[39;00m \u001b[39mmean_iou\u001b[39m(\n\u001b[1;32m      2\u001b[0m     results,\n\u001b[1;32m      3\u001b[0m     gt_seg_maps,\n\u001b[0;32m   (...)\u001b[0m\n\u001b[1;32m      9\u001b[0m     reduce_pred_labels: \u001b[39mbool\u001b[39m \u001b[39m=\u001b[39m \u001b[39mFalse\u001b[39;00m,\n\u001b[1;32m     10\u001b[0m ):\n\u001b[1;32m     11\u001b[0m \u001b[39m    \u001b[39m\u001b[39m\"\"\"Calculate Mean Intersection and Union (mIoU).\u001b[39;00m\n\u001b[1;32m     12\u001b[0m \u001b[39m    Args:\u001b[39;00m\n\u001b[1;32m     13\u001b[0m \u001b[39m        results (`ndarray`):\u001b[39;00m\n\u001b[0;32m   (...)\u001b[0m\n\u001b[1;32m     41\u001b[0m \u001b[39m            Per category IoU.\u001b[39;00m\n\u001b[1;32m     42\u001b[0m \u001b[39m    \"\"\"\u001b[39;00m\n\u001b[0;32m---> 43\u001b[0m     total_area_intersect, total_area_union, total_area_pred_label, total_area_label \u001b[39m=\u001b[39m total_intersect_and_union(\n\u001b[1;32m     44\u001b[0m         results, gt_seg_maps, num_labels, ignore_index, label_map, reduce_labels, reduce_pred_labels\n\u001b[1;32m     45\u001b[0m     )\n\u001b[1;32m     47\u001b[0m     \u001b[39m# compute metrics\u001b[39;00m\n\u001b[1;32m     48\u001b[0m     metrics \u001b[39m=\u001b[39m \u001b[39mdict\u001b[39m()\n",
      "\u001b[0;31mNameError\u001b[0m: name 'total_intersect_and_union' is not defined"
     ]
    }
   ],
   "source": [
    "import torch\n",
    "# from utils import mean_iou\n",
    "from tqdm import tqdm\n",
    "\n",
    "\n",
    "device = torch.device('cuda' if torch.cuda.is_available() else 'cpu')\n",
    "\n",
    "def evaluate_model(model, val_dataloader, num_classes):\n",
    "    model.eval()  # Set the model to evaluation mode\n",
    "\n",
    "    all_predictions = []\n",
    "    all_labels = []\n",
    "\n",
    "    with torch.no_grad():\n",
    "        for sam_embeds, dino_feats, labels in tqdm(val_dataloader):\n",
    "\n",
    "            dino_feats = dino_feats.squeeze(1)\n",
    "            dino_feats = dino_feats.permute(0, 2, 3, 1)\n",
    "            dino_feats = adder(dino_feats)\n",
    "            dino_feats = dino_feats.permute(1, 2, 0, 3).reshape(-1, dino_feats.shape[0], embed_dim)\n",
    "            sam_embeds = sam_embeds.transpose(0, 1)\n",
    "\n",
    "            outputs = model(sam_embeds, dino_feats)\n",
    "            outputs = outputs.transpose(0, 1).view(-1, num_classes)\n",
    "            \n",
    "            _, predicted = torch.max(outputs.data, 1)\n",
    "            labels = labels.view(-1)\n",
    "\n",
    "            all_predictions.append(predicted.cpu().numpy())\n",
    "            all_labels.append(labels.cpu().numpy())\n",
    "\n",
    "    return all_predictions, all_labels\n",
    "\n",
    "def compute_mIOU(predictions, labels, num_classes):\n",
    "    # Compute mIOU using predictions and ground truth annotations.\n",
    "    num_classes = num_classes -1 \n",
    "    reduce_labels = True\n",
    "    n_classes = num_classes - 1 if reduce_labels else num_classes\n",
    "    miou = mean_iou(predictions, labels, num_labels=n_classes, ignore_index=255, reduce_labels=reduce_labels)\n",
    "    print(miou)\n",
    "\n",
    "\n",
    "if __name__ == '__main__':\n",
    "    model =model\n",
    "    val_dataloader = val_dataloader\n",
    "    num_classes = 151\n",
    "    predictions, labels = evaluate_model(model, val_dataloader, num_classes)\n",
    "    compute_mIOU(predictions, labels, num_classes)\n"
   ]
  },
  {
   "cell_type": "code",
   "execution_count": 19,
   "metadata": {},
   "outputs": [],
   "source": [
    "def mean_iou(\n",
    "    results,\n",
    "    gt_seg_maps,\n",
    "    num_labels,\n",
    "    ignore_index: bool,\n",
    "    nan_to_num = None,\n",
    "    label_map = None,\n",
    "    reduce_labels: bool = False,\n",
    "    reduce_pred_labels: bool = False,\n",
    "):\n",
    "    \"\"\"Calculate Mean Intersection and Union (mIoU).\n",
    "    Args:\n",
    "        results (`ndarray`):\n",
    "            List of prediction segmentation maps, each of shape (height, width).\n",
    "        gt_seg_maps (`ndarray`):\n",
    "            List of ground truth segmentation maps, each of shape (height, width).\n",
    "        num_labels (`int`):\n",
    "            Number of categories.\n",
    "        ignore_index (`int`):\n",
    "            Index that will be ignored during evaluation.\n",
    "        nan_to_num (`int`, *optional*):\n",
    "            If specified, NaN values will be replaced by the number defined by the user.\n",
    "        label_map (`dict`, *optional*):\n",
    "            Mapping old labels to new labels. The parameter will work only when label is str.\n",
    "        reduce_labels (`bool`, *optional*, defaults to `False`):\n",
    "            Whether or not to reduce all label values of segmentation maps by 1. Usually used for datasets where 0 is used for background,\n",
    "            and background itself is not included in all classes of a dataset (e.g. ADE20k). The background label will be replaced by 255.\n",
    "        reduce_pred_labels (`bool`, *optional*, defaults to `False`):\n",
    "            Same as `reduce_labels` but for prediction labels.\n",
    "    Returns:\n",
    "        `Dict[str, float | ndarray]` comprising various elements:\n",
    "        - *mean_iou* (`float`):\n",
    "            Mean Intersection-over-Union (IoU averaged over all categories).\n",
    "        - *mean_accuracy* (`float`):\n",
    "            Mean accuracy (averaged over all categories).\n",
    "        - *overall_accuracy* (`float`):\n",
    "            Overall accuracy on all images.\n",
    "        - *per_category_accuracy* (`ndarray` of shape `(num_labels,)`):\n",
    "            Per category accuracy.\n",
    "        - *per_category_iou* (`ndarray` of shape `(num_labels,)`):\n",
    "            Per category IoU.\n",
    "    \"\"\"\n",
    "    total_area_intersect, total_area_union, total_area_pred_label, total_area_label = total_intersect_and_union(\n",
    "        results, gt_seg_maps, num_labels, ignore_index, label_map, reduce_labels, reduce_pred_labels\n",
    "    )\n",
    "\n",
    "    # compute metrics\n",
    "    metrics = dict()\n",
    "\n",
    "    all_acc = total_area_intersect.sum() / total_area_label.sum()\n",
    "    iou = total_area_intersect / total_area_union\n",
    "    acc = total_area_intersect / total_area_label\n",
    "\n",
    "    metrics[\"mean_iou\"] = np.nanmean(iou)\n",
    "    metrics[\"mean_accuracy\"] = np.nanmean(acc)\n",
    "    metrics[\"overall_accuracy\"] = all_acc\n",
    "    metrics[\"per_category_iou\"] = iou\n",
    "    metrics[\"per_category_accuracy\"] = acc\n",
    "\n",
    "    if nan_to_num is not None:\n",
    "        metrics = dict(\n",
    "            {metric: np.nan_to_num(metric_value, nan=nan_to_num) for metric, metric_value in metrics.items()}\n",
    "        )\n",
    "\n",
    "    return metrics"
   ]
  },
  {
   "cell_type": "code",
   "execution_count": 7,
   "metadata": {},
   "outputs": [
    {
     "name": "stdout",
     "output_type": "stream",
     "text": [
      "Requirement already satisfied: matplotlib in /home/st34/miniconda3/envs/dino/lib/python3.10/site-packages (3.7.3)\n",
      "Requirement already satisfied: contourpy>=1.0.1 in /home/st34/miniconda3/envs/dino/lib/python3.10/site-packages (from matplotlib) (1.1.0)\n",
      "Requirement already satisfied: cycler>=0.10 in /home/st34/miniconda3/envs/dino/lib/python3.10/site-packages (from matplotlib) (0.11.0)\n",
      "Requirement already satisfied: fonttools>=4.22.0 in /home/st34/miniconda3/envs/dino/lib/python3.10/site-packages (from matplotlib) (4.42.1)\n",
      "Requirement already satisfied: kiwisolver>=1.0.1 in /home/st34/miniconda3/envs/dino/lib/python3.10/site-packages (from matplotlib) (1.4.5)\n",
      "Requirement already satisfied: numpy<2,>=1.20 in /home/st34/miniconda3/envs/dino/lib/python3.10/site-packages (from matplotlib) (1.25.2)\n",
      "Requirement already satisfied: packaging>=20.0 in /home/st34/miniconda3/envs/dino/lib/python3.10/site-packages (from matplotlib) (23.1)\n",
      "Requirement already satisfied: pillow>=6.2.0 in /home/st34/miniconda3/envs/dino/lib/python3.10/site-packages (from matplotlib) (9.4.0)\n",
      "Requirement already satisfied: pyparsing>=2.3.1 in /home/st34/miniconda3/envs/dino/lib/python3.10/site-packages (from matplotlib) (3.1.1)\n",
      "Requirement already satisfied: python-dateutil>=2.7 in /home/st34/miniconda3/envs/dino/lib/python3.10/site-packages (from matplotlib) (2.8.2)\n",
      "Requirement already satisfied: six>=1.5 in /home/st34/miniconda3/envs/dino/lib/python3.10/site-packages (from python-dateutil>=2.7->matplotlib) (1.16.0)\n"
     ]
    }
   ],
   "source": [
    "!pip install matplotlib"
   ]
  },
  {
   "cell_type": "code",
   "execution_count": 8,
   "metadata": {},
   "outputs": [],
   "source": [
    "from torch.utils.data import random_split\n",
    "from tqdm import tqdm\n",
    "\n",
    "# Assuming dataloader is based on a dataset object\n",
    "train_size = int(0.8 * len(dataloader.dataset))\n",
    "val_size = len(dataloader.dataset) - train_size\n",
    "\n",
    "train_dataset, val_dataset = random_split(dataloader.dataset, [train_size, val_size])\n",
    "\n",
    "train_dataloader = torch.utils.data.DataLoader(train_dataset, batch_size=1, shuffle=True)\n",
    "val_dataloader = torch.utils.data.DataLoader(val_dataset, batch_size=1, shuffle=False)\n",
    "\n",
    "# Model instantiation, optimizer and loss definition remain unchanged\n",
    "\n",
    "def compute_loss(dataloader, model, criterion):\n",
    "    total_loss = 0.0\n",
    "    with torch.no_grad():\n",
    "        for sam_embeds, dino_feats, labels in dataloader:\n",
    "            # [Same preprocessing as in your training loop...]\n",
    "            dino_feats = dino_feats.squeeze(1)\n",
    "            dino_feats = dino_feats.permute(0, 2, 3, 1)\n",
    "            dino_feats = adder(dino_feats)\n",
    "            dino_feats = dino_feats.permute(1, 2, 0, 3).reshape(-1, dino_feats.shape[0], embed_dim)\n",
    "            sam_embeds = sam_embeds.transpose(0, 1)\n",
    "            \n",
    "            outputs = model(sam_embeds, dino_feats)\n",
    "            outputs = outputs.transpose(0, 1).view(-1, num_classes)\n",
    "            labels = labels.view(-1)\n",
    "            loss = criterion(outputs, labels)\n",
    "            total_loss += loss.item()\n",
    "    return total_loss / len(dataloader)"
   ]
  },
  {
   "cell_type": "code",
   "execution_count": 11,
   "metadata": {},
   "outputs": [
    {
     "name": "stderr",
     "output_type": "stream",
     "text": [
      "  0%|          | 0/1171 [00:00<?, ?it/s]/srv/condor/execute/dir_63414/ipykernel_64652/1374343028.py:46: UserWarning: Creating a tensor from a list of numpy.ndarrays is extremely slow. Please consider converting the list to a single numpy.ndarray with numpy.array() before converting to a tensor. (Triggered internally at /opt/conda/conda-bld/pytorch_1670525552843/work/torch/csrc/utils/tensor_new.cpp:230.)\n",
      "  return torch.tensor(sam_embeds), torch.tensor(dino_feats), torch.tensor(label_all, dtype=torch.long)\n",
      "100%|██████████| 1171/1171 [01:27<00:00, 13.45it/s]\n"
     ]
    },
    {
     "name": "stdout",
     "output_type": "stream",
     "text": [
      "Epoch 1, Train Loss: 1.2831833353926239, Validation Loss: 1.0407299545717523\n"
     ]
    },
    {
     "name": "stderr",
     "output_type": "stream",
     "text": [
      "100%|██████████| 1171/1171 [01:22<00:00, 14.12it/s]\n"
     ]
    },
    {
     "name": "stdout",
     "output_type": "stream",
     "text": [
      "Epoch 2, Train Loss: 0.8773936035362471, Validation Loss: 0.7004248736483448\n"
     ]
    },
    {
     "name": "stderr",
     "output_type": "stream",
     "text": [
      "100%|██████████| 1171/1171 [01:24<00:00, 13.92it/s]\n"
     ]
    },
    {
     "name": "stdout",
     "output_type": "stream",
     "text": [
      "Epoch 3, Train Loss: 0.6080472200152955, Validation Loss: 1.4639408802832143\n"
     ]
    },
    {
     "name": "stderr",
     "output_type": "stream",
     "text": [
      "100%|██████████| 1171/1171 [01:21<00:00, 14.36it/s]\n"
     ]
    },
    {
     "name": "stdout",
     "output_type": "stream",
     "text": [
      "Epoch 4, Train Loss: 1.4854464241891048, Validation Loss: 1.7331591071211336\n"
     ]
    },
    {
     "name": "stderr",
     "output_type": "stream",
     "text": [
      "100%|██████████| 1171/1171 [01:22<00:00, 14.25it/s]\n"
     ]
    },
    {
     "name": "stdout",
     "output_type": "stream",
     "text": [
      "Epoch 5, Train Loss: 0.4790562907086314, Validation Loss: 0.6011328092527317\n"
     ]
    },
    {
     "name": "stderr",
     "output_type": "stream",
     "text": [
      "100%|██████████| 1171/1171 [01:23<00:00, 13.97it/s]\n"
     ]
    },
    {
     "name": "stdout",
     "output_type": "stream",
     "text": [
      "Epoch 6, Train Loss: 0.37859389851777986, Validation Loss: 0.7067425848258904\n"
     ]
    },
    {
     "name": "stderr",
     "output_type": "stream",
     "text": [
      "100%|██████████| 1171/1171 [01:26<00:00, 13.50it/s]\n"
     ]
    },
    {
     "name": "stdout",
     "output_type": "stream",
     "text": [
      "Epoch 7, Train Loss: 0.4166657027607425, Validation Loss: 0.5947056969245514\n"
     ]
    },
    {
     "name": "stderr",
     "output_type": "stream",
     "text": [
      "100%|██████████| 1171/1171 [01:25<00:00, 13.74it/s]\n"
     ]
    },
    {
     "name": "stdout",
     "output_type": "stream",
     "text": [
      "Epoch 8, Train Loss: 0.4141676265253168, Validation Loss: 0.652670075149838\n"
     ]
    },
    {
     "name": "stderr",
     "output_type": "stream",
     "text": [
      "100%|██████████| 1171/1171 [01:22<00:00, 14.19it/s]\n"
     ]
    },
    {
     "name": "stdout",
     "output_type": "stream",
     "text": [
      "Epoch 9, Train Loss: 0.4117843273515414, Validation Loss: 0.7171135787465117\n"
     ]
    },
    {
     "name": "stderr",
     "output_type": "stream",
     "text": [
      "100%|██████████| 1171/1171 [01:24<00:00, 13.80it/s]\n"
     ]
    },
    {
     "name": "stdout",
     "output_type": "stream",
     "text": [
      "Epoch 10, Train Loss: 0.765777468021128, Validation Loss: 1.4265372666939409\n"
     ]
    },
    {
     "name": "stderr",
     "output_type": "stream",
     "text": [
      "100%|██████████| 1171/1171 [01:23<00:00, 14.08it/s]\n"
     ]
    },
    {
     "name": "stdout",
     "output_type": "stream",
     "text": [
      "Epoch 11, Train Loss: 0.5210354201297703, Validation Loss: 0.5596246167646758\n"
     ]
    },
    {
     "name": "stderr",
     "output_type": "stream",
     "text": [
      "100%|██████████| 1171/1171 [01:23<00:00, 13.98it/s]\n"
     ]
    },
    {
     "name": "stdout",
     "output_type": "stream",
     "text": [
      "Epoch 12, Train Loss: 0.2777508228281586, Validation Loss: 0.5096075014809232\n"
     ]
    },
    {
     "name": "stderr",
     "output_type": "stream",
     "text": [
      "100%|██████████| 1171/1171 [01:23<00:00, 13.94it/s]\n"
     ]
    },
    {
     "name": "stdout",
     "output_type": "stream",
     "text": [
      "Epoch 13, Train Loss: 0.5326363548576367, Validation Loss: 1.7457490949282546\n"
     ]
    },
    {
     "name": "stderr",
     "output_type": "stream",
     "text": [
      "100%|██████████| 1171/1171 [01:22<00:00, 14.22it/s]\n"
     ]
    },
    {
     "name": "stdout",
     "output_type": "stream",
     "text": [
      "Epoch 14, Train Loss: 0.5282976094732965, Validation Loss: 0.6439835414645432\n"
     ]
    },
    {
     "name": "stderr",
     "output_type": "stream",
     "text": [
      "100%|██████████| 1171/1171 [01:22<00:00, 14.24it/s]\n"
     ]
    },
    {
     "name": "stdout",
     "output_type": "stream",
     "text": [
      "Epoch 15, Train Loss: 0.27647729603265664, Validation Loss: 0.5132978385860444\n"
     ]
    },
    {
     "name": "stderr",
     "output_type": "stream",
     "text": [
      "100%|██████████| 1171/1171 [01:22<00:00, 14.14it/s]\n"
     ]
    },
    {
     "name": "stdout",
     "output_type": "stream",
     "text": [
      "Epoch 16, Train Loss: 0.26225661572126374, Validation Loss: 0.6507793078564976\n"
     ]
    },
    {
     "name": "stderr",
     "output_type": "stream",
     "text": [
      "100%|██████████| 1171/1171 [01:22<00:00, 14.16it/s]\n"
     ]
    },
    {
     "name": "stdout",
     "output_type": "stream",
     "text": [
      "Epoch 17, Train Loss: 0.472963497484884, Validation Loss: 0.8767770079885215\n"
     ]
    },
    {
     "name": "stderr",
     "output_type": "stream",
     "text": [
      "100%|██████████| 1171/1171 [01:23<00:00, 13.99it/s]\n"
     ]
    },
    {
     "name": "stdout",
     "output_type": "stream",
     "text": [
      "Epoch 18, Train Loss: 0.3266886129606729, Validation Loss: 1.2533646472749307\n"
     ]
    },
    {
     "name": "stderr",
     "output_type": "stream",
     "text": [
      "100%|██████████| 1171/1171 [01:23<00:00, 14.05it/s]\n"
     ]
    },
    {
     "name": "stdout",
     "output_type": "stream",
     "text": [
      "Epoch 19, Train Loss: 0.3211179207030974, Validation Loss: 0.6694977659418939\n"
     ]
    },
    {
     "name": "stderr",
     "output_type": "stream",
     "text": [
      "100%|██████████| 1171/1171 [01:23<00:00, 14.10it/s]\n"
     ]
    },
    {
     "name": "stdout",
     "output_type": "stream",
     "text": [
      "Epoch 20, Train Loss: 0.41785948201931805, Validation Loss: 0.8506036790175366\n"
     ]
    },
    {
     "name": "stderr",
     "output_type": "stream",
     "text": [
      "100%|██████████| 1171/1171 [01:22<00:00, 14.17it/s]\n"
     ]
    },
    {
     "name": "stdout",
     "output_type": "stream",
     "text": [
      "Epoch 21, Train Loss: 0.2935572623464237, Validation Loss: 0.6756852856203717\n"
     ]
    },
    {
     "name": "stderr",
     "output_type": "stream",
     "text": [
      "100%|██████████| 1171/1171 [01:23<00:00, 13.96it/s]\n"
     ]
    },
    {
     "name": "stdout",
     "output_type": "stream",
     "text": [
      "Epoch 22, Train Loss: 0.27158775923783895, Validation Loss: 0.622227082553481\n"
     ]
    },
    {
     "name": "stderr",
     "output_type": "stream",
     "text": [
      "100%|██████████| 1171/1171 [01:23<00:00, 14.08it/s]\n"
     ]
    },
    {
     "name": "stdout",
     "output_type": "stream",
     "text": [
      "Epoch 23, Train Loss: 0.2216666154268547, Validation Loss: 0.7460593238689808\n"
     ]
    },
    {
     "name": "stderr",
     "output_type": "stream",
     "text": [
      "100%|██████████| 1171/1171 [01:23<00:00, 14.09it/s]\n"
     ]
    },
    {
     "name": "stdout",
     "output_type": "stream",
     "text": [
      "Epoch 24, Train Loss: 0.2230270322771648, Validation Loss: 0.6378767666004679\n"
     ]
    },
    {
     "name": "stderr",
     "output_type": "stream",
     "text": [
      "100%|██████████| 1171/1171 [01:22<00:00, 14.12it/s]\n"
     ]
    },
    {
     "name": "stdout",
     "output_type": "stream",
     "text": [
      "Epoch 25, Train Loss: 0.7990413406560416, Validation Loss: 1.2388813118986368\n"
     ]
    },
    {
     "name": "stderr",
     "output_type": "stream",
     "text": [
      "100%|██████████| 1171/1171 [01:25<00:00, 13.64it/s]\n"
     ]
    },
    {
     "name": "stdout",
     "output_type": "stream",
     "text": [
      "Epoch 26, Train Loss: 0.3337184550703061, Validation Loss: 0.9906302916974723\n"
     ]
    },
    {
     "name": "stderr",
     "output_type": "stream",
     "text": [
      "100%|██████████| 1171/1171 [01:23<00:00, 13.97it/s]\n"
     ]
    },
    {
     "name": "stdout",
     "output_type": "stream",
     "text": [
      "Epoch 27, Train Loss: 0.18581540475513172, Validation Loss: 0.8300880462891642\n"
     ]
    },
    {
     "name": "stderr",
     "output_type": "stream",
     "text": [
      "100%|██████████| 1171/1171 [01:22<00:00, 14.21it/s]\n"
     ]
    },
    {
     "name": "stdout",
     "output_type": "stream",
     "text": [
      "Epoch 28, Train Loss: 0.1680778458224968, Validation Loss: 0.9398043743513639\n"
     ]
    },
    {
     "name": "stderr",
     "output_type": "stream",
     "text": [
      "100%|██████████| 1171/1171 [01:22<00:00, 14.17it/s]\n"
     ]
    },
    {
     "name": "stdout",
     "output_type": "stream",
     "text": [
      "Epoch 29, Train Loss: 0.7558089475451464, Validation Loss: 1.6701476808817726\n"
     ]
    },
    {
     "name": "stderr",
     "output_type": "stream",
     "text": [
      "100%|██████████| 1171/1171 [01:23<00:00, 14.02it/s]\n"
     ]
    },
    {
     "name": "stdout",
     "output_type": "stream",
     "text": [
      "Epoch 30, Train Loss: 0.3680098992197399, Validation Loss: 1.1932882073651654\n"
     ]
    },
    {
     "data": {
      "image/png": "[encoded data removed]",
      "text/plain": [
       "<Figure size 1200x600 with 1 Axes>"
      ]
     },
     "metadata": {},
     "output_type": "display_data"
    }
   ],
   "source": [
    "import matplotlib.pyplot as plt\n",
    "\n",
    "train_losses = []  # List to store training loss for each epoch\n",
    "val_losses = []    # List to store validation loss for each epoch\n",
    "\n",
    "# Training loop\n",
    "for epoch in range(30):  # Example number of epochs\n",
    "    model.train()\n",
    "    epoch_train_loss = 0\n",
    "    for sam_embeds, dino_feats, labels in tqdm(train_dataloader):\n",
    "        optimizer.zero_grad()\n",
    "\n",
    "        # [Same preprocessing as in your training loop...]\n",
    "        dino_feats = dino_feats.squeeze(1)\n",
    "        dino_feats = dino_feats.permute(0, 2, 3, 1)\n",
    "        dino_feats = adder(dino_feats)\n",
    "        dino_feats = dino_feats.permute(1, 2, 0, 3).reshape(-1, dino_feats.shape[0], embed_dim)\n",
    "        sam_embeds = sam_embeds.transpose(0, 1)\n",
    "\n",
    "        outputs = model(sam_embeds, dino_feats)\n",
    "        outputs = outputs.transpose(0, 1).view(-1, num_classes)\n",
    "        labels = labels.view(-1)\n",
    "        loss = criterion(outputs, labels)\n",
    "        loss.backward()\n",
    "        optimizer.step()\n",
    "\n",
    "        epoch_train_loss += loss.item()\n",
    "\n",
    "    epoch_train_loss /= len(train_dataloader)  # Average training loss for the epoch\n",
    "    train_losses.append(epoch_train_loss)\n",
    "\n",
    "    # Compute validation loss\n",
    "    model.eval()\n",
    "    val_loss = compute_loss(val_dataloader, model, criterion)\n",
    "    val_losses.append(val_loss)\n",
    "\n",
    "    print(f\"Epoch {epoch + 1}, Train Loss: {epoch_train_loss}, Validation Loss: {val_loss}\")\n",
    "\n",
    "# Plot training and validation loss\n",
    "plt.figure(figsize=(12, 6))\n",
    "plt.plot(train_losses, label='Training Loss')\n",
    "plt.plot(val_losses, label='Validation Loss')\n",
    "plt.title('Training and Validation Loss over Epochs')\n",
    "plt.xlabel('Epochs')\n",
    "plt.ylabel('Loss')\n",
    "plt.legend()\n",
    "plt.grid(True)\n",
    "plt.show()"
   ]
  },
  {
   "cell_type": "code",
   "execution_count": null,
   "metadata": {},
   "outputs": [],
   "source": []
  }
 ],
 "metadata": {
  "kernelspec": {
   "display_name": "dino",
   "language": "python",
   "name": "python3"
  },
  "language_info": {
   "codemirror_mode": {
    "name": "ipython",
    "version": 3
   },
   "file_extension": ".py",
   "mimetype": "text/x-python",
   "name": "python",
   "nbconvert_exporter": "python",
   "pygments_lexer": "ipython3",
   "version": "3.10.12"
  },
  "orig_nbformat": 4
 },
 "nbformat": 4,
 "nbformat_minor": 2
}
