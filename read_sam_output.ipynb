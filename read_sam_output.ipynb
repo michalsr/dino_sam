{
 "cells": [
  {
   "cell_type": "code",
   "execution_count": 1,
   "id": "ef60f800-6268-473b-a4bd-f077086ef248",
   "metadata": {},
   "outputs": [],
   "source": [
    "import segment_anything_main"
   ]
  },
  {
   "cell_type": "code",
   "execution_count": 8,
   "id": "d6ef2b41-0c07-4003-89d4-41090be04296",
   "metadata": {},
   "outputs": [],
   "source": [
    "import json "
   ]
  },
  {
   "cell_type": "code",
   "execution_count": 11,
   "id": "ff907288-e829-439b-a030-749f87f45d24",
   "metadata": {},
   "outputs": [
    {
     "name": "stdout",
     "output_type": "stream",
     "text": [
      "True\n"
     ]
    }
   ],
   "source": [
    "import os \n",
    "# original image location: under data/{dataset_name}/images/{training|validation}/image_name.jpg\n",
    "print(os.path.exists('/shared/rsaas/dino_sam/data/ADE20K/images/training/ADE_train_00016845.jpg'))"
   ]
  },
  {
   "cell_type": "code",
   "execution_count": 12,
   "id": "468e8c4d-8a94-4675-9359-a273cee1f55d",
   "metadata": {},
   "outputs": [
    {
     "data": {
      "text/plain": [
       "True"
      ]
     },
     "execution_count": 12,
     "metadata": {},
     "output_type": "execute_result"
    }
   ],
   "source": [
    "# All SAM regions for ADE_train_00016845: under sam_output/dataset_name/{training|validation}/image_name.json \n",
    "os.path.exists('/shared/rsaas/dino_sam/sam_output/ADE20K/training/ADE_train_00016845.json')"
   ]
  },
  {
   "cell_type": "code",
   "execution_count": 14,
   "id": "8c85d1a5-a1e7-4655-a01f-1ba0e53f9e4c",
   "metadata": {},
   "outputs": [],
   "source": [
    "with open('/shared/rsaas/dino_sam/sam_output/ADE20K/training/ADE_train_00016845.json','r+') as s:\n",
    "    sam_regions = json.load(s)"
   ]
  },
  {
   "cell_type": "code",
   "execution_count": 19,
   "id": "1c64a181-d4c2-41c3-bbe5-4266cf582a11",
   "metadata": {},
   "outputs": [
    {
     "data": {
      "text/plain": [
       "'Number of SAM regions = 54'"
      ]
     },
     "execution_count": 19,
     "metadata": {},
     "output_type": "execute_result"
    }
   ],
   "source": [
    "# each sam file contains a list of all regions \n",
    "'Number of SAM regions = '+ str(len(sam_regions))"
   ]
  },
  {
   "cell_type": "code",
   "execution_count": 20,
   "id": "b54de693-e1eb-44fe-98ca-88fff5eb5a42",
   "metadata": {},
   "outputs": [
    {
     "data": {
      "text/plain": [
       "('ADE_train_00016845_region_0', 'ADE_train_00016845')"
      ]
     },
     "execution_count": 20,
     "metadata": {},
     "output_type": "execute_result"
    }
   ],
   "source": [
    "# Each region contains region id, original image id and other metrics related to sam \n",
    "# region id format: {image_id}_region_{number}\n",
    "sam_regions[0]['region_id'],sam_regions[0]['image_id']"
   ]
  },
  {
   "cell_type": "code",
   "execution_count": 21,
   "id": "4d8886b7-0e65-473d-8505-4f75357965d0",
   "metadata": {},
   "outputs": [
    {
     "data": {
      "text/plain": [
       "{'size': [507, 380],\n",
       " 'counts': 'o?<5G000000M3Oj3Q:j1O0000000000001O00001O0000000000001O1O001O2N2N2N1O1O3M4L2N2N2N1O001O00000000000000000000000000000000001O1O001O1O001O1O1O001O1O1O1O00001O1O001O00O100O100O1000000000000000000001O00001O1O1O3M1O1O1O2N1O1O001O001O001O1O2N002N2N1O1O1O1O001O001O1O001O000000001O0000001O1O00001O00001O1O00O100000000000000001O001O001O001O0000O10000001O001O001O0000O1001O0000O100000000000000000000O11O00O10000000000000000O1000000000000000000O100O1O1O100O1O1nJ[HRM0a2b0]Mb8m2f3O10000O1000000O10000001O000000001O001O1O4L\\\\1dNg0YOh0XOm0SO=QGjH_8k7^Od0THaG4Oi6o8L1O1O001O00001O001O001O000000001O1O001O1O2N1O2N001O001O00000000001O00RNiIXJW6g5kIXJU6h5lIWJT6i5mIVJS6j5nIUJR6k5oITJQ6l5QJRJo5n5TJoIl5P6\\\\JiId5W6\\\\JiId5W6]JTIFBm5Z7_JPIFFk5Z7dJjHCKi5Z7gJhHAMi5Z7hJbHE4c5g6kIaIf1H_4f6lIaIf1FUNNZ6j6nI]If1J_4f6e2@QGRJQ9l5UGlIo8S6=O1O1O1UOZF`Kg9_4[F_Kf9`4]F^Kc9a4_F]Kb9c4_FUKh9h4]FSKf9l4e0O1HXEZKk:d47N2M3L4K5O1O100O11O1O1O1O5K2N2N3M1O1O2N2N2N3M1O1O001O00001O2N<D1O0000O100O1000000O1000000O100O1O1HeEnJ]:Q57O1O1N2KWEWKj:g46O100\\\\OoD]LR;c3PEZLQ;f3PEXLQ;g3QEXLo:e3``0'}"
      ]
     },
     "execution_count": 21,
     "metadata": {},
     "output_type": "execute_result"
    }
   ],
   "source": [
    "# actual output from SAM is stored in Compressed RLE under key segmentation \n",
    "sam_regions[0]['segmentation']"
   ]
  },
  {
   "cell_type": "code",
   "execution_count": 23,
   "id": "5e9ad654-e9d2-4206-aa53-0b2b5d0c5411",
   "metadata": {},
   "outputs": [],
   "source": [
    "# not human readable directly from file \n",
    "# to convert from compressed RLE to binary use pycoco \n",
    "from pycocotools import mask as mask_utils\n",
    "mask = mask_utils.decode(sam_regions[0][\"segmentation\"])\n",
    "\n"
   ]
  },
  {
   "cell_type": "code",
   "execution_count": 24,
   "id": "f1ceb746-9237-40e6-aad2-bf372c05bf50",
   "metadata": {},
   "outputs": [
    {
     "data": {
      "text/plain": [
       "array([[0, 0, 1, ..., 1, 1, 0],\n",
       "       [0, 0, 1, ..., 1, 1, 0],\n",
       "       [0, 0, 1, ..., 1, 1, 0],\n",
       "       ...,\n",
       "       [0, 0, 0, ..., 0, 0, 0],\n",
       "       [0, 0, 0, ..., 0, 0, 0],\n",
       "       [0, 0, 0, ..., 0, 0, 0]], dtype=uint8)"
      ]
     },
     "execution_count": 24,
     "metadata": {},
     "output_type": "execute_result"
    }
   ],
   "source": [
    "mask"
   ]
  },
  {
   "cell_type": "code",
   "execution_count": null,
   "id": "2abf3787-aba3-474b-88c0-41b61d40d2cc",
   "metadata": {},
   "outputs": [],
   "source": []
  }
 ],
 "metadata": {
  "kernelspec": {
   "display_name": "Python 3 (ipykernel)",
   "language": "python",
   "name": "python3"
  },
  "language_info": {
   "codemirror_mode": {
    "name": "ipython",
    "version": 3
   },
   "file_extension": ".py",
   "mimetype": "text/x-python",
   "name": "python",
   "nbconvert_exporter": "python",
   "pygments_lexer": "ipython3",
   "version": "3.9.12"
  }
 },
 "nbformat": 4,
 "nbformat_minor": 5
}
